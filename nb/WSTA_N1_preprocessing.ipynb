{
  "cells": [
    {
      "cell_type": "markdown",
      "source": [
        "# Preprocessing with NLTK"
      ],
      "metadata": {
        "deletable": true,
        "editable": true
      }
    },
    {
      "cell_type": "markdown",
      "source": [
        "First, if you haven't used iPython notebooks before, in order to run the code on this workbook, you can use the run commands in the Cell menu, or do shift-enter when an individual code cell is selected. Generally, you will have to run the cells in order for them to work properly. The output for a given cell (in any) will appear below the code after it has completed running. To make sure things are working, run the cell bellow:"
      ],
      "metadata": {
        "deletable": true,
        "editable": true
      }
    },
    {
      "cell_type": "code",
      "source": [
        "print(\"hello world\")"
      ],
      "outputs": [
        {
          "output_type": "stream",
          "name": "stdout",
          "text": [
            "hello world\n"
          ]
        }
      ],
      "execution_count": 1,
      "metadata": {
        "collapsed": false,
        "deletable": true,
        "editable": true
      }
    },
    {
      "cell_type": "markdown",
      "source": [
        "Okay, now let's do some simple preprocessing on this snippet from the html from the class website:"
      ],
      "metadata": {
        "deletable": true,
        "editable": true
      }
    },
    {
      "cell_type": "code",
      "source": [
        "text = '''\n",
        " <body>\n",
        "    <!-- JavaScript plugins (requires jQuery) -->\n",
        "    <script src=\"http://code.jquery.com/jquery.js\"></script>\n",
        "    <!-- Include all compiled plugins (below), or include individual files as needed -->\n",
        "    <script src=\"js/bootstrap.min.js\"></script>\n",
        "\n",
        "    <div class=\"container\">\n",
        "      <div class=\"page-header\">\n",
        "  <h3>COMP90042 Web Search and Text Analysis</h3>\n",
        "</div>\n",
        "\n",
        "The aims for this subject is for students to develop an understanding of the main algorithms used in natural language processing and text retrieval, for use in a diverse range of\n",
        "applications including text classification, information retrieval, machine translation, and question answering. Topics to be\n",
        "covered include vector space models, part-of-speech tagging, n-gram language\n",
        "modelling, syntactic parsing and neural sequence models. The programming language used is Python, see <a href=\"python.html\">the\n",
        "detailed configuration instructions</a> for more information on its use in the workshops, assignments and\n",
        "installation at home.\n",
        "</body>\n",
        "'''"
      ],
      "outputs": [],
      "execution_count": 2,
      "metadata": {
        "collapsed": true,
        "deletable": true,
        "editable": true
      }
    },
    {
      "cell_type": "markdown",
      "source": [
        "First, let's remove the html markup using regular expressions"
      ],
      "metadata": {
        "deletable": true,
        "editable": true
      }
    },
    {
      "cell_type": "code",
      "source": [
        "import re\n",
        "\n",
        "text = re.sub(\"<[^>]+>\", \"\", text).strip()\n",
        "print(text)"
      ],
      "outputs": [
        {
          "output_type": "stream",
          "name": "stdout",
          "text": [
            "COMP90042 Web Search and Text Analysis\n",
            "\n\n",
            "The aims for this subject is for students to develop an understanding of the main algorithms used in natural language processing and text retrieval, for use in a diverse range of\n",
            "applications including text classification, information retrieval, machine translation, and question answering. Topics to be\n",
            "covered include vector space models, part-of-speech tagging, n-gram language\n",
            "modelling, syntactic parsing and neural sequence models. The programming language used is Python, see the\n",
            "detailed configuration instructions for more information on its use in the workshops, assignments and\n",
            "installation at home.\n"
          ]
        }
      ],
      "execution_count": 3,
      "metadata": {
        "collapsed": false,
        "deletable": true,
        "editable": true,
        "scrolled": true
      }
    },
    {
      "cell_type": "markdown",
      "source": [
        "We can see more clearly now that there are three newline characters between the title and the main text, and also some newlines within the text. Our sentence tokenizer won't be able to handle the title properly, so let's remove it, and change the other newlines to spaces."
      ],
      "metadata": {
        "deletable": true,
        "editable": true
      }
    },
    {
      "cell_type": "code",
      "source": [
        "text = text.split(\"\\n\\n\\n\")[1].replace(\"\\n\", \" \")\n",
        "print(text)"
      ],
      "outputs": [
        {
          "output_type": "stream",
          "name": "stdout",
          "text": [
            "The aims for this subject is for students to develop an understanding of the main algorithms used in natural language processing and text retrieval, for use in a diverse range of applications including text classification, information retrieval, machine translation, and question answering. Topics to be covered include vector space models, part-of-speech tagging, n-gram language modelling, syntactic parsing and neural sequence models. The programming language used is Python, see the detailed configuration instructions for more information on its use in the workshops, assignments and installation at home.\n"
          ]
        }
      ],
      "execution_count": 4,
      "metadata": {
        "collapsed": false,
        "deletable": true,
        "editable": true
      }
    },
    {
      "cell_type": "markdown",
      "source": [
        "Next let's segment the text into sentences. Though a simple method like splitting on periods would work well enough in this case, let's try a sentence segmenter from NLTK, which would be able to handle harder cases if they appeared in our text."
      ],
      "metadata": {
        "deletable": true,
        "editable": true
      }
    },
    {
      "cell_type": "code",
      "source": [
        "import nltk\n",
        "nltk.download('punkt')\n",
        "sent_segmenter = nltk.data.load('tokenizers/punkt/english.pickle')\n",
        "\n",
        "sentences = sent_segmenter.tokenize(text)\n",
        "print(sentences)"
      ],
      "outputs": [
        {
          "output_type": "stream",
          "name": "stdout",
          "text": [
            "[nltk_data] Downloading package punkt to /Users/Matt/nltk_data...\n",
            "[nltk_data]   Unzipping tokenizers/punkt.zip.\n",
            "['The aims for this subject is for students to develop an understanding of the main algorithms used in natural language processing and text retrieval, for use in a diverse range of applications including text classification, information retrieval, machine translation, and question answering.', 'Topics to be covered include vector space models, part-of-speech tagging, n-gram language modelling, syntactic parsing and neural sequence models.', 'The programming language used is Python, see the detailed configuration instructions for more information on its use in the workshops, assignments and installation at home.']\n"
          ]
        }
      ],
      "execution_count": 5,
      "metadata": {
        "collapsed": false,
        "deletable": true,
        "editable": true
      }
    },
    {
      "cell_type": "markdown",
      "source": [
        "NLTK also has a word tokenizer. For the first sentence, let's compare a naive split using spaces and the NTLK regex tokenizer"
      ],
      "metadata": {
        "deletable": true,
        "editable": true
      }
    },
    {
      "cell_type": "code",
      "source": [
        "word_tokenizer = nltk.tokenize.regexp.WordPunctTokenizer()\n",
        "\n",
        "tokenized_sentence = word_tokenizer.tokenize(sentences[0])\n",
        "print(tokenized_sentence)\n",
        "print(sentences[0].split(\" \"))"
      ],
      "outputs": [
        {
          "output_type": "stream",
          "name": "stdout",
          "text": [
            "['The', 'aims', 'for', 'this', 'subject', 'is', 'for', 'students', 'to', 'develop', 'an', 'understanding', 'of', 'the', 'main', 'algorithms', 'used', 'in', 'natural', 'language', 'processing', 'and', 'text', 'retrieval', ',', 'for', 'use', 'in', 'a', 'diverse', 'range', 'of', 'applications', 'including', 'text', 'classification', ',', 'information', 'retrieval', ',', 'machine', 'translation', ',', 'and', 'question', 'answering', '.']\n",
            "['The', 'aims', 'for', 'this', 'subject', 'is', 'for', 'students', 'to', 'develop', 'an', 'understanding', 'of', 'the', 'main', 'algorithms', 'used', 'in', 'natural', 'language', 'processing', 'and', 'text', 'retrieval,', 'for', 'use', 'in', 'a', 'diverse', 'range', 'of', 'applications', 'including', 'text', 'classification,', 'information', 'retrieval,', 'machine', 'translation,', 'and', 'question', 'answering.']\n"
          ]
        }
      ],
      "execution_count": 6,
      "metadata": {
        "collapsed": false,
        "deletable": true,
        "editable": true
      }
    },
    {
      "cell_type": "markdown",
      "source": [
        "The NLTK tokenizer correctly splits off commas and periods from the ends of words. It also splits up the hyphenated word \"cross-language\", which might be the right behavior for some applications, but not for others.\n",
        "\nLet's try out lemmatization. NLTK has a lemmatizer, though using it requires that we know the part of speech of the word. In this case, we'll just try verb lemmatization, and if doesn't change the word, we'll try noun."
      ],
      "metadata": {
        "deletable": true,
        "editable": true
      }
    },
    {
      "cell_type": "code",
      "source": [
        "nltk.download('wordnet')\n",
        "lemmatizer = nltk.stem.wordnet.WordNetLemmatizer()\n",
        "\n",
        "def lemmatize(word):\n",
        "    lemma = lemmatizer.lemmatize(word,'v')\n",
        "    if lemma == word:\n",
        "        lemma = lemmatizer.lemmatize(word,'n')\n",
        "    return lemma\n",
        "\nprint([lemmatize(token) for token in tokenized_sentence])"
      ],
      "outputs": [
        {
          "output_type": "stream",
          "name": "stdout",
          "text": [
            "[nltk_data] Downloading package wordnet to /Users/Matt/nltk_data...\n",
            "[nltk_data]   Unzipping corpora/wordnet.zip.\n",
            "['The', 'aim', 'for', 'this', 'subject', 'be', 'for', 'student', 'to', 'develop', 'an', 'understand', 'of', 'the', 'main', 'algorithm', 'use', 'in', 'natural', 'language', 'process', 'and', 'text', 'retrieval', ',', 'for', 'use', 'in', 'a', 'diverse', 'range', 'of', 'application', 'include', 'text', 'classification', ',', 'information', 'retrieval', ',', 'machine', 'translation', ',', 'and', 'question', 'answer', '.']\n"
          ]
        }
      ],
      "execution_count": 7,
      "metadata": {
        "collapsed": false,
        "deletable": true,
        "editable": true
      }
    },
    {
      "cell_type": "markdown",
      "source": [
        "Compare this to the result of stemming using the Porter Stemmer:"
      ],
      "metadata": {
        "deletable": true,
        "editable": true
      }
    },
    {
      "cell_type": "code",
      "source": [
        "stemmer = nltk.stem.porter.PorterStemmer()\n",
        "print([stemmer.stem(token) for token in tokenized_sentence])"
      ],
      "outputs": [
        {
          "output_type": "stream",
          "name": "stdout",
          "text": [
            "['the', 'aim', 'for', 'thi', 'subject', 'is', 'for', 'student', 'to', 'develop', 'an', 'understand', 'of', 'the', 'main', 'algorithm', 'use', 'in', 'natur', 'languag', 'process', 'and', 'text', 'retriev', ',', 'for', 'use', 'in', 'a', 'divers', 'rang', 'of', 'applic', 'includ', 'text', 'classif', ',', 'inform', 'retriev', ',', 'machin', 'translat', ',', 'and', 'question', 'answer', '.']\n"
          ]
        }
      ],
      "execution_count": 8,
      "metadata": {
        "collapsed": false,
        "deletable": true,
        "editable": true
      }
    },
    {
      "cell_type": "code",
      "source": [],
      "outputs": [],
      "execution_count": null,
      "metadata": {
        "collapsed": true,
        "deletable": true,
        "editable": true
      }
    }
  ],
  "metadata": {
    "kernelspec": {
      "name": "python3",
      "language": "python",
      "display_name": "Python 3"
    },
    "language_info": {
      "name": "python",
      "version": "3.7.0",
      "mimetype": "text/x-python",
      "codemirror_mode": {
        "name": "ipython",
        "version": 3
      },
      "pygments_lexer": "ipython3",
      "nbconvert_exporter": "python",
      "file_extension": ".py"
    },
    "kernel_info": {
      "name": "python3"
    },
    "nteract": {
      "version": "0.12.3"
    }
  },
  "nbformat": 4,
  "nbformat_minor": 1
}